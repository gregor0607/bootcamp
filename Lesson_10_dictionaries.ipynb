{
 "cells": [
  {
   "cell_type": "code",
   "execution_count": 13,
   "metadata": {},
   "outputs": [],
   "source": [
    "my_dict = {'a': 6,\n",
    "          'b': 7,\n",
    "          'c': 27.6}"
   ]
  },
  {
   "cell_type": "code",
   "execution_count": 14,
   "metadata": {},
   "outputs": [
    {
     "data": {
      "text/plain": [
       "6"
      ]
     },
     "execution_count": 14,
     "metadata": {},
     "output_type": "execute_result"
    }
   ],
   "source": [
    "my_dict['a']"
   ]
  },
  {
   "cell_type": "code",
   "execution_count": 15,
   "metadata": {},
   "outputs": [],
   "source": [
    "my_dict_2 = dict(a=6,\n",
    "    b=7,\n",
    "    c=27.6)"
   ]
  },
  {
   "cell_type": "code",
   "execution_count": 39,
   "metadata": {},
   "outputs": [],
   "source": [
    "def almost_right(a, b, c, report, greeting = None, ):\n",
    "    \"\"\"Determin if a triangle is almost right.\n",
    "    Parameters\n",
    "    -----------\n",
    "    a : int or float\n",
    "        Length of one leg of the triangle\n",
    "        .....\n",
    "    \"\"\"\n",
    "    \n",
    "    if greeting is not None:\n",
    "        print(greeting)\n",
    "    \n",
    "    if abs(a**2 + b**2 - c**2) < 1e-12:\n",
    "        if report:\n",
    "            print(\"It's right, baby!\")\n",
    "        return True\n",
    "    \n",
    "    if report:\n",
    "        \"It's not right. But it's ok.\"\n",
    "        \n",
    "    return False"
   ]
  },
  {
   "cell_type": "code",
   "execution_count": 35,
   "metadata": {},
   "outputs": [],
   "source": [
    "my_legs = (3, 4, 5)\n",
    "my_legs_dict = {'report': True,\n",
    "               'greeting': 'Good morning!'}"
   ]
  },
  {
   "cell_type": "code",
   "execution_count": 40,
   "metadata": {},
   "outputs": [
    {
     "name": "stdout",
     "output_type": "stream",
     "text": [
      "Good morning!\n",
      "It's right, baby!\n"
     ]
    },
    {
     "data": {
      "text/plain": [
       "True"
      ]
     },
     "execution_count": 40,
     "metadata": {},
     "output_type": "execute_result"
    }
   ],
   "source": [
    "# you can pass tuples and dictionaries to function with asterisks\n",
    "almost_right(*my_legs, **my_legs_dict)"
   ]
  },
  {
   "cell_type": "code",
   "execution_count": null,
   "metadata": {},
   "outputs": [],
   "source": []
  }
 ],
 "metadata": {
  "kernelspec": {
   "display_name": "Python 3",
   "language": "python",
   "name": "python3"
  },
  "language_info": {
   "codemirror_mode": {
    "name": "ipython",
    "version": 3
   },
   "file_extension": ".py",
   "mimetype": "text/x-python",
   "name": "python",
   "nbconvert_exporter": "python",
   "pygments_lexer": "ipython3",
   "version": "3.6.5"
  }
 },
 "nbformat": 4,
 "nbformat_minor": 2
}
