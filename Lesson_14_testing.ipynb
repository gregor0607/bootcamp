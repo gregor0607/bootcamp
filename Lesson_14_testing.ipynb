{
 "cells": [
  {
   "cell_type": "code",
   "execution_count": 11,
   "metadata": {},
   "outputs": [],
   "source": [
    "def number_negatives(seq):\n",
    "    \"\"\"Counts the number of negative residues\"\"\"\n",
    "    seq = seq.upper()\n",
    "    \n",
    "    return seq.count('E') + seq.count('D')"
   ]
  },
  {
   "cell_type": "code",
   "execution_count": 14,
   "metadata": {},
   "outputs": [],
   "source": [
    "# first tests\n",
    "assert number_negatives('E') == 1\n",
    "assert number_negatives('EEEAAA') == 3\n",
    "assert number_negatives('EEDDA') == 4\n",
    "assert number_negatives('aadde') == 3"
   ]
  },
  {
   "cell_type": "code",
   "execution_count": 18,
   "metadata": {},
   "outputs": [],
   "source": [
    "def test_number_negatives():\n",
    "    \"\"\"Perform unit tests on number_negatives()\"\"\"\n",
    "    \n",
    "    assert number_negatives('E') == 1\n",
    "    assert number_negatives('EEEAAA') == 3\n",
    "    assert number_negatives('EEDDA') == 4\n",
    "    assert number_negatives('aadde') == 3\n",
    "    "
   ]
  },
  {
   "cell_type": "code",
   "execution_count": 19,
   "metadata": {},
   "outputs": [],
   "source": [
    "test_number_negatives()"
   ]
  },
  {
   "cell_type": "code",
   "execution_count": 23,
   "metadata": {},
   "outputs": [
    {
     "name": "stdout",
     "output_type": "stream",
     "text": [
      "\u001b[1m============================= test session starts ==============================\u001b[0m\n",
      "platform darwin -- Python 3.6.5, pytest-3.5.1, py-1.5.3, pluggy-0.6.0\n",
      "rootdir: /Users/jangregrowicz/git/bootcamp, inifile:\n",
      "plugins: remotedata-0.2.1, openfiles-0.3.0, doctestplus-0.1.3, arraydiff-0.2\n",
      "collected 2 items                                                              \u001b[0m\n",
      "\n",
      "test_seq_features.py ..\u001b[36m                                                  [100%]\u001b[0m\n",
      "\n",
      "\u001b[32m\u001b[1m=========================== 2 passed in 0.02 seconds ===========================\u001b[0m\n"
     ]
    }
   ],
   "source": [
    "# ! makes it as if it was running in terminal\n",
    "\n",
    "!pytest test_seq_features.py"
   ]
  },
  {
   "cell_type": "code",
   "execution_count": 24,
   "metadata": {},
   "outputs": [
    {
     "name": "stdout",
     "output_type": "stream",
     "text": [
      "\u001b[1m============================= test session starts ==============================\u001b[0m\n",
      "platform darwin -- Python 3.6.5, pytest-3.5.1, py-1.5.3, pluggy-0.6.0\n",
      "rootdir: /Users/jangregrowicz/git/bootcamp, inifile:\n",
      "plugins: remotedata-0.2.1, openfiles-0.3.0, doctestplus-0.1.3, arraydiff-0.2\n",
      "collected 2 items                                                              \u001b[0m\n",
      "\n",
      "test_seq_features.py ..\u001b[36m                                                  [100%]\u001b[0m\n",
      "\n",
      "\u001b[32m\u001b[1m=========================== 2 passed in 0.05 seconds ===========================\u001b[0m\n"
     ]
    }
   ],
   "source": [
    "!pytest"
   ]
  },
  {
   "cell_type": "code",
   "execution_count": 29,
   "metadata": {},
   "outputs": [
    {
     "name": "stdout",
     "output_type": "stream",
     "text": [
      "\u001b[1m============================= test session starts ==============================\u001b[0m\n",
      "platform darwin -- Python 3.6.5, pytest-3.5.1, py-1.5.3, pluggy-0.6.0 -- /anaconda/bin/python\n",
      "cachedir: .pytest_cache\n",
      "rootdir: /Users/jangregrowicz/git/bootcamp, inifile:\n",
      "plugins: remotedata-0.2.1, openfiles-0.3.0, doctestplus-0.1.3, arraydiff-0.2\n",
      "collected 3 items                                                              \u001b[0m\n",
      "\n",
      "test_seq_features.py::test_number_negatives \u001b[32mPASSED\u001b[0m\u001b[36m                       [ 33%]\u001b[0m\n",
      "test_seq_features.py::test_other_tests \u001b[32mPASSED\u001b[0m\u001b[36m                            [ 66%]\u001b[0m\n",
      "test_seq_features.py::test_invalid \u001b[32mPASSED\u001b[0m\u001b[36m                                [100%]\u001b[0m\n",
      "\n",
      "\u001b[32m\u001b[1m=========================== 3 passed in 0.73 seconds ===========================\u001b[0m\n"
     ]
    }
   ],
   "source": [
    "!pytest -v"
   ]
  },
  {
   "cell_type": "code",
   "execution_count": null,
   "metadata": {},
   "outputs": [],
   "source": []
  }
 ],
 "metadata": {
  "kernelspec": {
   "display_name": "Python 3",
   "language": "python",
   "name": "python3"
  },
  "language_info": {
   "codemirror_mode": {
    "name": "ipython",
    "version": 3
   },
   "file_extension": ".py",
   "mimetype": "text/x-python",
   "name": "python",
   "nbconvert_exporter": "python",
   "pygments_lexer": "ipython3",
   "version": "3.6.5"
  }
 },
 "nbformat": 4,
 "nbformat_minor": 2
}
