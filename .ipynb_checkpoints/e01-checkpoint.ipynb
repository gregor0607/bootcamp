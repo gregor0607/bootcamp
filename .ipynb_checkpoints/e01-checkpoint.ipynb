{
 "cells": [
  {
   "cell_type": "markdown",
   "metadata": {},
   "source": [
    "<br />"
   ]
  },
  {
   "cell_type": "markdown",
   "metadata": {},
   "source": [
    "<br />"
   ]
  },
  {
   "cell_type": "markdown",
   "metadata": {},
   "source": [
    "## Exercise 1.3: Using string methods\n",
    "\n",
    "In [Lesson 7](../lessons/l07_intro_to_functions.html), we wrote a function to compute the reverse complement of a sequence.  \n",
    "\n",
    "**a)** Write that function again, still using a **`for`** loop, but do not use the built-in `reversed()` function.\n",
    "\n",
    "**b)** Write the function one more time, but without any loops."
   ]
  },
  {
   "cell_type": "code",
   "execution_count": 6,
   "metadata": {},
   "outputs": [],
   "source": [
    "# Solution to a (not using reveresed function).\n",
    "\n",
    "def base_complement(base, material = 'DNA'):\n",
    "    '''This function takes base type as an input and returns its complement according \n",
    "    to Watson-Crick base pairing.\n",
    "    \n",
    "    Parameters\n",
    "    ----------\n",
    "    base : string\n",
    "        Type of base in DNA or RNA.\n",
    "    material : string \n",
    "        'DNA' by default, can be changed to 'RNA'\n",
    "    '''\n",
    "    \n",
    "    if base in 'Aa':\n",
    "        if material == 'DNA':\n",
    "            return 'T'\n",
    "        else:\n",
    "            return 'U'\n",
    "    elif base in 'Cc':\n",
    "        return 'G'\n",
    "    elif base in 'TtUu':\n",
    "        return 'A'\n",
    "    elif base in 'Gg':\n",
    "        return 'C'\n",
    "    else:\n",
    "        return 'The input contains unrecognized bases'"
   ]
  },
  {
   "cell_type": "code",
   "execution_count": 7,
   "metadata": {},
   "outputs": [
    {
     "data": {
      "text/plain": [
       "'The input contains unrecognized bases'"
      ]
     },
     "execution_count": 7,
     "metadata": {},
     "output_type": "execute_result"
    }
   ],
   "source": [
    "base_complement('F', 'RNA')"
   ]
  },
  {
   "cell_type": "code",
   "execution_count": null,
   "metadata": {},
   "outputs": [],
   "source": [
    "\n",
    "\n",
    "def reverse_complement(seq, material = 'DNA'):\n",
    "    '''This function takes a DNA or RNA sequence as an input and returns its reverse complement'''"
   ]
  },
  {
   "cell_type": "markdown",
   "metadata": {},
   "source": [
    "<br />"
   ]
  },
  {
   "cell_type": "markdown",
   "metadata": {},
   "source": [
    "## Exercise 1.4: Longest common substring\n",
    "\n",
    "Write a function that takes two sequences and returns the longest common substring.  A substring is a contiguous portion of a string.  For example:\n",
    "\n",
    "Substrings of `ATGCATAT`:\n",
    "\n",
    "    TGCA\n",
    "    T\n",
    "    TAT\n",
    "    \n",
    "Not substrings of `ATGCATAT`:\n",
    "\n",
    "    AGCA              # Skipped T\n",
    "    CCATA             # Added another C\n",
    "    Hello, world.     # Has nothing to do with the input sequence\n",
    "    \n",
    "There may be more than one longest common substring; you only need to return one of them."
   ]
  },
  {
   "cell_type": "markdown",
   "metadata": {},
   "source": [
    "<br />"
   ]
  },
  {
   "cell_type": "markdown",
   "metadata": {},
   "source": [
    "## Exercise 1.5: RNA secondary structure validator\n",
    "\n",
    "In this problem, we will write a function that takes an RNA sequence and an RNA secondary structure and decides if the secondary structure is possible given the sequence.  Remember, single stranded RNA can fold back on itself and form base pairs.  An RNA secondary structure is simply the list of base pairs that are present.  We will represent the base pairs in dot-parentheses notation.  For example, a sequence/secondary structure pair would be\n",
    "\n",
    "    0123456789\n",
    "    GCAUCUAUGC\n",
    "    (((....)))\n",
    "\n",
    "For convenience of discussion, I have labeled the indices of the bases on the top row.  In this case, base `0`, a `G`, pairs with base `9`, a `C`.  Base `1` pairs with base `8`, and base `2` pairs with base `7`.  Bases `3`, `4`, `5`, and `6` are unpaired.  (This structure is aptly called a \"hairpin.\")\n",
    "\n",
    "I hope the dot-parentheses notation is clear.  An open parenthesis is paired with the parenthesis that closes it.  Dots are unpaired.\n",
    "\n",
    "So, the goal of our function is to check all base pairs present in a secondary structure and see if they are with `G-C`, `A-U`, or (optionally) `G-U`."
   ]
  },
  {
   "cell_type": "markdown",
   "metadata": {},
   "source": [
    "**a)** Write a function to make sure that the number of closed parentheses is equal to the number of open parentheses, a requirement for a valid secondary structure.  It should return `True` if the parentheses are valid and `False` otherwise."
   ]
  },
  {
   "cell_type": "markdown",
   "metadata": {},
   "source": [
    "**b)** Write a function that converts the dot-parens notation to a tuple of 2-tuples representing the base pairs.  We'll call this function `dotparen_to_bp()`.  An example input/output of this function would be:\n",
    "\n",
    "    dotparen_to_bp('(((...)))')\n",
    "    \n",
    "    ((0, 9), (1, 8), (2, 7))\n",
    "    \n",
    "*Hint*: You might find the `pop()` method of lists useful."
   ]
  },
  {
   "cell_type": "markdown",
   "metadata": {},
   "source": [
    "**c)** Because of sterics, the minimal length of a hairpin loop is three bases.  A hairpin loop is a series of unpaired bases that are closed by a base pair.  For example, the secondary structure `(.(....).)` has a single hairpin loop of length 4.  So, the structure `((((..))))` is not valid because it has a hairpin loop of only two bases.\n",
    "\n",
    "Write a function that verifies that a list of base pairs (as outputted by `dotparen_to_bp()`) satisfies the minimal hairpin length requirement."
   ]
  },
  {
   "cell_type": "markdown",
   "metadata": {},
   "source": [
    "**d)** Now write your validator function.  The function definition should look like this:\n",
    "\n",
    "    def rna_ss_validator(seq, sec_struc, wobble=True):\n",
    "    \n",
    "It should return `True` if the sequence is commensurate with a valid secondary structure and `False` otherwise.  The `wobble` keyword argument is `True` if we allow wobble pairs (`G` paired with `U`).  Here are some expected results:\n",
    "\n",
    "Returns `True`:\n",
    "\n",
    "\n",
    "    rna_ss_validator('GCAUCUAUGC', '(((....)))')\n",
    "    rna_ss_validator('GCAUCUAUGU', '(((....)))') \n",
    "    rna_ss_validator('GCAUCUAUGU', '(.(....).)') \n",
    "\n",
    "Returns `False`:\n",
    "\n",
    "    rna_ss_validator('GCAUCUACGC', '(((....)))')\n",
    "    rna_ss_validator('GCAUCUAUGU', '(((....)))', wobble=False) \n",
    "    rna_ss_validator('GCAUCUAUGU', '(.(....)).') \n",
    "    rna_ss_validator('GCCCUUGGCA', '(.((..))).')"
   ]
  },
  {
   "cell_type": "code",
   "execution_count": null,
   "metadata": {},
   "outputs": [],
   "source": []
  }
 ],
 "metadata": {
  "anaconda-cloud": {},
  "kernelspec": {
   "display_name": "Python 3",
   "language": "python",
   "name": "python3"
  },
  "language_info": {
   "codemirror_mode": {
    "name": "ipython",
    "version": 3
   },
   "file_extension": ".py",
   "mimetype": "text/x-python",
   "name": "python",
   "nbconvert_exporter": "python",
   "pygments_lexer": "ipython3",
   "version": "3.6.5"
  }
 },
 "nbformat": 4,
 "nbformat_minor": 2
}
