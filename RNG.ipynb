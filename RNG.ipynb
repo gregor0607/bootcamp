{
 "cells": [
  {
   "cell_type": "code",
   "execution_count": 2,
   "metadata": {},
   "outputs": [],
   "source": [
    "import numpy as np\n",
    "import pandas as pd\n",
    "import scipy.stats\n",
    "\n",
    "import altair as alt\n",
    "\n",
    "import bootcamp_utils"
   ]
  },
  {
   "cell_type": "code",
   "execution_count": 4,
   "metadata": {},
   "outputs": [
    {
     "data": {
      "text/plain": [
       "array([0.006793  , 0.8294371 , 0.86308708, 0.31392529, 0.36351027,\n",
       "       0.39083889, 0.19281719, 0.48086224, 0.56737273, 0.4619731 ])"
      ]
     },
     "execution_count": 4,
     "metadata": {},
     "output_type": "execute_result"
    }
   ],
   "source": [
    "np.random.random(size=10)"
   ]
  },
  {
   "cell_type": "code",
   "execution_count": 13,
   "metadata": {},
   "outputs": [
    {
     "data": {
      "application/vnd.vegalite.v2+json": {
       "$schema": "https://vega.github.io/schema/vega-lite/v2.4.3.json",
       "config": {
        "view": {
         "height": 300,
         "width": 400
        }
       },
       "layer": [
        {
         "data": {
          "values": [
           {
            "x": 0,
            "y": 0
           },
           {
            "x": 1,
            "y": 1
           }
          ]
         },
         "encoding": {
          "x": {
           "field": "x",
           "type": "quantitative"
          },
          "y": {
           "field": "y",
           "type": "quantitative"
          }
         },
         "mark": "line"
        },
        {
         "data": {
          "values": [
           {
            "x": 5.460933331091766e-06,
            "y": 1e-05
           },
           {
            "x": 0.01007552096627018,
            "y": 0.01001
           },
           {
            "x": 0.01994822921255157,
            "y": 0.02001
           },
           {
            "x": 0.03016440101272233,
            "y": 0.03001
           },
           {
            "x": 0.04058429277285425,
            "y": 0.04001
           },
           {
            "x": 0.050767745235614115,
            "y": 0.05001
           },
           {
            "x": 0.060593000185860335,
            "y": 0.06001
           },
           {
            "x": 0.07119268670501444,
            "y": 0.07001
           },
           {
            "x": 0.08124369372251972,
            "y": 0.08001
           },
           {
            "x": 0.0913991494690497,
            "y": 0.09001
           },
           {
            "x": 0.1012859803870726,
            "y": 0.10001
           },
           {
            "x": 0.1110754976168461,
            "y": 0.11001
           },
           {
            "x": 0.12123304179039918,
            "y": 0.12001
           },
           {
            "x": 0.13127430833491516,
            "y": 0.13001
           },
           {
            "x": 0.14144375500200712,
            "y": 0.14001
           },
           {
            "x": 0.15138594138585282,
            "y": 0.15001
           },
           {
            "x": 0.16086445617818135,
            "y": 0.16001
           },
           {
            "x": 0.1711401956960743,
            "y": 0.17001
           },
           {
            "x": 0.18102354169206736,
            "y": 0.18001
           },
           {
            "x": 0.19060832553261065,
            "y": 0.19001
           },
           {
            "x": 0.2009276916007845,
            "y": 0.20001
           },
           {
            "x": 0.21091491904642135,
            "y": 0.21001
           },
           {
            "x": 0.22106758508561597,
            "y": 0.22001
           },
           {
            "x": 0.23078098051601237,
            "y": 0.23001
           },
           {
            "x": 0.24083984605344844,
            "y": 0.24001
           },
           {
            "x": 0.2515172712136672,
            "y": 0.25001
           },
           {
            "x": 0.26136164653728433,
            "y": 0.26001
           },
           {
            "x": 0.27115229696169607,
            "y": 0.27001
           },
           {
            "x": 0.28073272056640675,
            "y": 0.28001
           },
           {
            "x": 0.29080052577491355,
            "y": 0.29001
           },
           {
            "x": 0.30070936765173606,
            "y": 0.30001
           },
           {
            "x": 0.311054758058383,
            "y": 0.31001
           },
           {
            "x": 0.32098300855782713,
            "y": 0.32001
           },
           {
            "x": 0.3309033660171574,
            "y": 0.33001
           },
           {
            "x": 0.34120141060750686,
            "y": 0.34001
           },
           {
            "x": 0.35074476278713473,
            "y": 0.35001
           },
           {
            "x": 0.36104070649157616,
            "y": 0.36001
           },
           {
            "x": 0.37169136914232814,
            "y": 0.37001
           },
           {
            "x": 0.3816404808953181,
            "y": 0.38001
           },
           {
            "x": 0.3915382102810586,
            "y": 0.39001
           },
           {
            "x": 0.4011599613439184,
            "y": 0.40001
           },
           {
            "x": 0.41096467806441395,
            "y": 0.41001
           },
           {
            "x": 0.4210126797232444,
            "y": 0.42001
           },
           {
            "x": 0.4310338229111287,
            "y": 0.43001
           },
           {
            "x": 0.4406850789721065,
            "y": 0.44001
           },
           {
            "x": 0.45067040767977296,
            "y": 0.45001
           },
           {
            "x": 0.460473563166787,
            "y": 0.46001
           },
           {
            "x": 0.4705992673812578,
            "y": 0.47001
           },
           {
            "x": 0.4801537212298742,
            "y": 0.48001
           },
           {
            "x": 0.48939464476557804,
            "y": 0.49001
           },
           {
            "x": 0.49931945775049547,
            "y": 0.50001
           },
           {
            "x": 0.5093624252238699,
            "y": 0.51001
           },
           {
            "x": 0.5189884350153439,
            "y": 0.52001
           },
           {
            "x": 0.52847983699396,
            "y": 0.53001
           },
           {
            "x": 0.5382536715857398,
            "y": 0.54001
           },
           {
            "x": 0.5485629107117721,
            "y": 0.55001
           },
           {
            "x": 0.5583145731258522,
            "y": 0.56001
           },
           {
            "x": 0.5681518242344654,
            "y": 0.57001
           },
           {
            "x": 0.5783558055746325,
            "y": 0.58001
           },
           {
            "x": 0.5884524776131417,
            "y": 0.59001
           },
           {
            "x": 0.5981361340039463,
            "y": 0.60001
           },
           {
            "x": 0.6079517066780126,
            "y": 0.61001
           },
           {
            "x": 0.6180885660032519,
            "y": 0.62001
           },
           {
            "x": 0.6280237336575466,
            "y": 0.63001
           },
           {
            "x": 0.6377992902818581,
            "y": 0.64001
           },
           {
            "x": 0.6476601781715842,
            "y": 0.65001
           },
           {
            "x": 0.657166136927579,
            "y": 0.66001
           },
           {
            "x": 0.6670070332769723,
            "y": 0.67001
           },
           {
            "x": 0.6769018286682955,
            "y": 0.68001
           },
           {
            "x": 0.6868855480322595,
            "y": 0.69001
           },
           {
            "x": 0.6970691988414429,
            "y": 0.70001
           },
           {
            "x": 0.7067734752138065,
            "y": 0.71001
           },
           {
            "x": 0.71725697056667,
            "y": 0.72001
           },
           {
            "x": 0.7272290822442018,
            "y": 0.73001
           },
           {
            "x": 0.7372041383336884,
            "y": 0.74001
           },
           {
            "x": 0.7471032898777615,
            "y": 0.75001
           },
           {
            "x": 0.7567935184467621,
            "y": 0.76001
           },
           {
            "x": 0.7669025080690811,
            "y": 0.77001
           },
           {
            "x": 0.777089415102638,
            "y": 0.78001
           },
           {
            "x": 0.7877751708615435,
            "y": 0.79001
           },
           {
            "x": 0.7984621944275488,
            "y": 0.80001
           },
           {
            "x": 0.808848432668902,
            "y": 0.81001
           },
           {
            "x": 0.8192149856773727,
            "y": 0.82001
           },
           {
            "x": 0.8297329257731801,
            "y": 0.83001
           },
           {
            "x": 0.8397151391971249,
            "y": 0.84001
           },
           {
            "x": 0.8502141401462945,
            "y": 0.85001
           },
           {
            "x": 0.8599714033640425,
            "y": 0.86001
           },
           {
            "x": 0.8696797010618618,
            "y": 0.87001
           },
           {
            "x": 0.8802839667883745,
            "y": 0.88001
           },
           {
            "x": 0.8903239495067161,
            "y": 0.89001
           },
           {
            "x": 0.9003917862336649,
            "y": 0.90001
           },
           {
            "x": 0.9103572085634655,
            "y": 0.91001
           },
           {
            "x": 0.9199158228132466,
            "y": 0.92001
           },
           {
            "x": 0.9303312551642532,
            "y": 0.93001
           },
           {
            "x": 0.9400571373350434,
            "y": 0.94001
           },
           {
            "x": 0.9500584821515401,
            "y": 0.95001
           },
           {
            "x": 0.9598084287603069,
            "y": 0.96001
           },
           {
            "x": 0.9699138860572788,
            "y": 0.97001
           },
           {
            "x": 0.9801533332538425,
            "y": 0.98001
           },
           {
            "x": 0.9901642525536132,
            "y": 0.99001
           }
          ]
         },
         "encoding": {
          "x": {
           "field": "x",
           "type": "quantitative"
          },
          "y": {
           "field": "y",
           "type": "quantitative"
          }
         },
         "mark": "point"
        }
       ]
      },
      "image/png": "[encoded data removed]",
      "text/plain": [
       "<VegaLite 2 object>\n",
       "\n",
       "If you see this message, it means the renderer has not been properly enabled\n",
       "for the frontend that you are using. For more information, see\n",
       "https://altair-viz.github.io/user_guide/troubleshooting.html\n"
      ]
     },
     "execution_count": 13,
     "metadata": {},
     "output_type": "execute_result"
    }
   ],
   "source": [
    "x = np.random.random(size=100000)\n",
    "\n",
    "x, y = bootcamp_utils.ecdf_vals(x)\n",
    "\n",
    "df_ecdf = pd.DataFrame(data={'x': x[::1000],\n",
    "                            'y': y[::1000]})\n",
    "\n",
    "df_cdf = pd.DataFrame(data={'x': [0, 1],\n",
    "                           'y': [0, 1]})\n",
    "\n",
    "p_ecdf = alt.Chart(df_ecdf\n",
    "                ).mark_point(\n",
    "                ).encode(\n",
    "                    x='x:Q',\n",
    "                    y='y:Q'\n",
    "                )\n",
    "\n",
    "p_cdf = alt.Chart(df_cdf\n",
    "                ).mark_line(\n",
    "                ).encode(\n",
    "                    x='x:Q',\n",
    "                    y='y:Q'\n",
    "                )\n",
    "\n",
    "p_cdf + p_ecdf"
   ]
  },
  {
   "cell_type": "code",
   "execution_count": 15,
   "metadata": {},
   "outputs": [
    {
     "name": "stdout",
     "output_type": "stream",
     "text": [
      "[False  True  True  True False False False  True  True  True False  True\n",
      "  True False False False False  True False False]\n",
      "\n",
      "There were 9  heads.\n"
     ]
    }
   ],
   "source": [
    "np.random.seed(42)\n",
    "\n",
    "# Generate 20 random numbers on uniform interval\n",
    "x = np.random.random(size=20)\n",
    "\n",
    "# Make the coin flips\n",
    "heads = x > 0.5\n",
    "\n",
    "# Show which were heads, and count the number of heads\n",
    "print(heads)\n",
    "print('\\nThere were', np.sum(heads), ' heads.')"
   ]
  },
  {
   "cell_type": "code",
   "execution_count": 16,
   "metadata": {},
   "outputs": [
    {
     "data": {
      "application/vnd.vegalite.v2+json": {
       "$schema": "https://vega.github.io/schema/vega-lite/v2.4.3.json",
       "config": {
        "view": {
         "height": 300,
         "width": 400
        }
       },
       "data": {
        "values": [
         {
          "x": 5.623843017616669,
          "y": 0.0001676972948401885
         },
         {
          "x": 5.802736779907761,
          "y": 5.589909828006311e-05
         },
         {
          "x": 5.981630542198854,
          "y": 5.5899098280062834e-05
         },
         {
          "x": 6.160524304489947,
          "y": 0.00022359639312025134
         },
         {
          "x": 6.33941806678104,
          "y": 0.0005030918845205655
         },
         {
          "x": 6.5183118290721325,
          "y": 0.0008384864742009426
         },
         {
          "x": 6.697205591363225,
          "y": 0.0016769729484018934
         },
         {
          "x": 6.876099353654317,
          "y": 0.0029626522088433303
         },
         {
          "x": 7.05499311594541,
          "y": 0.005813506221126535
         },
         {
          "x": 7.233886878236502,
          "y": 0.008049470152329088
         },
         {
          "x": 7.412780640527595,
          "y": 0.015484050223577406
         },
         {
          "x": 7.591674402818688,
          "y": 0.021968345624064696
         },
         {
          "x": 7.770568165109781,
          "y": 0.03230967880587632
         },
         {
          "x": 7.949461927400874,
          "y": 0.05030918845205655
         },
         {
          "x": 8.128355689691967,
          "y": 0.06897948727759753
         },
         {
          "x": 8.30724945198306,
          "y": 0.09273660404662425
         },
         {
          "x": 8.486143214274152,
          "y": 0.1260524666215417
         },
         {
          "x": 8.665036976565244,
          "y": 0.1659644227935082
         },
         {
          "x": 8.843930738856336,
          "y": 0.208168241994954
         },
         {
          "x": 9.02282450114743,
          "y": 0.24450265587699482
         },
         {
          "x": 9.201718263438522,
          "y": 0.2925758803978489
         },
         {
          "x": 9.380612025729615,
          "y": 0.32952518436097045
         },
         {
          "x": 9.559505788020708,
          "y": 0.36149946857716997
         },
         {
          "x": 9.738399550311799,
          "y": 0.3791635836336662
         },
         {
          "x": 9.917293312602892,
          "y": 0.39425634016928324
         },
         {
          "x": 10.096187074893985,
          "y": 0.40336789318893346
         },
         {
          "x": 10.275080837185078,
          "y": 0.38246163043218995
         },
         {
          "x": 10.45397459947617,
          "y": 0.36228205595308727
         },
         {
          "x": 10.632868361767263,
          "y": 0.3172273827393566
         },
         {
          "x": 10.811762124058356,
          "y": 0.2868741723732825
         },
         {
          "x": 10.99065588634945,
          "y": 0.24316107751827334
         },
         {
          "x": 11.169549648640542,
          "y": 0.2041994060170695
         },
         {
          "x": 11.348443410931635,
          "y": 0.16406385345198443
         },
         {
          "x": 11.527337173222728,
          "y": 0.12437549367313981
         },
         {
          "x": 11.706230935513819,
          "y": 0.0931278977345856
         },
         {
          "x": 11.885124697804912,
          "y": 0.06998567104663868
         },
         {
          "x": 12.064018460096005,
          "y": 0.046563948867292336
         },
         {
          "x": 12.242912222387098,
          "y": 0.03376305536115829
         },
         {
          "x": 12.421805984678189,
          "y": 0.02163295103438432
         },
         {
          "x": 12.600699746969282,
          "y": 0.013527581783775207
         },
         {
          "x": 12.779593509260375,
          "y": 0.008105369250609111
         },
         {
          "x": 12.958487271551467,
          "y": 0.005254515238325906
         },
         {
          "x": 13.13738103384256,
          "y": 0.0028508540122832043
         },
         {
          "x": 13.316274796133653,
          "y": 0.0014533765552816338
         },
         {
          "x": 13.495168558424746,
          "y": 0.0007825873759208797
         },
         {
          "x": 13.674062320715839,
          "y": 0.000670789179360754
         },
         {
          "x": 13.852956083006932,
          "y": 0.0002794954914003142
         },
         {
          "x": 14.031849845298025,
          "y": 0
         },
         {
          "x": 14.210743607589118,
          "y": 0
         },
         {
          "x": 14.38963736988021,
          "y": 5.5899098280062834e-05
         }
        ]
       },
       "encoding": {
        "x": {
         "field": "x",
         "type": "quantitative"
        },
        "y": {
         "field": "y",
         "type": "quantitative"
        }
       },
       "mark": {
        "interpolate": "step",
        "type": "area"
       }
      },
      "image/png": "[encoded data removed]",
      "text/plain": [
       "<VegaLite 2 object>\n",
       "\n",
       "If you see this message, it means the renderer has not been properly enabled\n",
       "for the frontend that you are using. For more information, see\n",
       "https://altair-viz.github.io/user_guide/troubleshooting.html\n"
      ]
     },
     "execution_count": 16,
     "metadata": {},
     "output_type": "execute_result"
    }
   ],
   "source": [
    "mu = 10\n",
    "sigma = 1\n",
    "\n",
    "# Draw 10000 random samples\n",
    "x = np.random.normal(mu, sigma, size=100000)\n",
    "\n",
    "# Compute the histogram\n",
    "hist, bin_edges = np.histogram(x, density=True, bins=50)\n",
    "bin_centers = np.diff(bin_edges)/2 + bin_edges[:-1]\n",
    "\n",
    "# Store in a DataFrame for plotting\n",
    "df = pd.DataFrame(data={'x': bin_centers, 'y': hist})\n",
    "\n",
    "# Plot a histogram of our draws\n",
    "alt.Chart(df\n",
    "    ).mark_area(\n",
    "        interpolate='step'\n",
    "    ).encode(\n",
    "        x='x:Q',\n",
    "        y='y:Q')"
   ]
  },
  {
   "cell_type": "code",
   "execution_count": null,
   "metadata": {},
   "outputs": [],
   "source": [
    "names = ['Max', 'Joe', 'Mike', 'Guido', 'Susie', 'Julie']\n",
    "\n",
    "np.random.seed()"
   ]
  }
 ],
 "metadata": {
  "kernelspec": {
   "display_name": "Python 3",
   "language": "python",
   "name": "python3"
  },
  "language_info": {
   "codemirror_mode": {
    "name": "ipython",
    "version": 3
   },
   "file_extension": ".py",
   "mimetype": "text/x-python",
   "name": "python",
   "nbconvert_exporter": "python",
   "pygments_lexer": "ipython3",
   "version": "3.6.5"
  }
 },
 "nbformat": 4,
 "nbformat_minor": 2
}
